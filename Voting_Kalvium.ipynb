{
  "cells": [
    {
      "cell_type": "markdown",
      "metadata": {
        "id": "view-in-github",
        "colab_type": "text"
      },
      "source": [
        "<a href=\"https://colab.research.google.com/github/ar2741/Kalvium_Lok_Sabha_election/blob/main/Voting_Kalvium.ipynb\" target=\"_parent\"><img src=\"https://colab.research.google.com/assets/colab-badge.svg\" alt=\"Open In Colab\"/></a>"
      ]
    },
    {
      "cell_type": "code",
      "execution_count": null,
      "metadata": {
        "id": "ppmaI3Mna09e"
      },
      "outputs": [],
      "source": [
        "import requests\n",
        "from bs4 import BeautifulSoup\n",
        "import pandas as pd"
      ]
    },
    {
      "cell_type": "code",
      "execution_count": null,
      "metadata": {
        "colab": {
          "base_uri": "https://localhost:8080/"
        },
        "id": "lwlNamMQnO1l",
        "outputId": "5fedc605-97dc-44bf-a244-cb61862d2a6d"
      },
      "outputs": [
        {
          "name": "stdout",
          "output_type": "stream",
          "text": [
            "Requirement already satisfied: requests in /usr/local/lib/python3.10/dist-packages (2.31.0)\n",
            "Requirement already satisfied: beautifulsoup4 in /usr/local/lib/python3.10/dist-packages (4.12.3)\n",
            "Requirement already satisfied: charset-normalizer<4,>=2 in /usr/local/lib/python3.10/dist-packages (from requests) (3.3.2)\n",
            "Requirement already satisfied: idna<4,>=2.5 in /usr/local/lib/python3.10/dist-packages (from requests) (3.7)\n",
            "Requirement already satisfied: urllib3<3,>=1.21.1 in /usr/local/lib/python3.10/dist-packages (from requests) (2.0.7)\n",
            "Requirement already satisfied: certifi>=2017.4.17 in /usr/local/lib/python3.10/dist-packages (from requests) (2024.6.2)\n",
            "Requirement already satisfied: soupsieve>1.2 in /usr/local/lib/python3.10/dist-packages (from beautifulsoup4) (2.5)\n"
          ]
        }
      ],
      "source": [
        "pip install requests beautifulsoup4\n"
      ]
    },
    {
      "cell_type": "code",
      "execution_count": null,
      "metadata": {
        "colab": {
          "base_uri": "https://localhost:8080/"
        },
        "id": "_9qUUME7nU3z",
        "outputId": "d4ad8475-3e7c-4505-b1a3-d72c2df0deb4"
      },
      "outputs": [
        {
          "name": "stdout",
          "output_type": "stream",
          "text": [
            "Table data has been successfully written to 'Election.csv'.\n"
          ]
        }
      ],
      "source": [
        "url = 'https://results.eci.gov.in/PcResultGenJune2024/index.htm#'\n",
        "\n",
        "# Send a GET request to the webpage\n",
        "response = requests.get(url)\n",
        "\n",
        "# Check if the request was successful\n",
        "if response.status_code == 200:\n",
        "    # Parse the HTML content of the webpage\n",
        "    soup = BeautifulSoup(response.content, 'html.parser')\n",
        "\n",
        "    # Find all tables on the webpage\n",
        "    tables = soup.find_all('table')\n",
        "\n",
        "\n",
        "    if tables:\n",
        "        with open('Election.csv', 'w', newline='', encoding='utf-8') as csvfile:\n",
        "            writer = csv.writer(csvfile)\n",
        "\n",
        "            for table in tables:\n",
        "\n",
        "                rows = table.find_all('tr')\n",
        "\n",
        "\n",
        "                for row in rows:\n",
        "\n",
        "                    cells = row.find_all(['td', 'th'])\n",
        "\n",
        "\n",
        "                    row_data = [cell.get_text().strip() for cell in cells]\n",
        "                    writer.writerow(row_data)\n",
        "\n",
        "        print(\"Table data has been successfully written to 'Election.csv'.\")\n",
        "    else:\n",
        "        print(\"No tables found on the webpage.\")\n",
        "else:\n",
        "    print(f\"Failed to retrieve the webpage. Status code: {response.status_code}\")"
      ]
    },
    {
      "cell_type": "code",
      "execution_count": null,
      "metadata": {
        "colab": {
          "background_save": true,
          "base_uri": "https://localhost:8080/",
          "height": 211
        },
        "id": "bM2TXn9ZzVHE",
        "outputId": "ce76ed26-70ad-432e-8d09-e25d3aca6c74"
      },
      "outputs": [
        {
          "name": "stdout",
          "output_type": "stream",
          "text": [
            "Requirement already satisfied: matplotlib in /usr/local/lib/python3.10/dist-packages (3.7.1)\n",
            "Requirement already satisfied: contourpy>=1.0.1 in /usr/local/lib/python3.10/dist-packages (from matplotlib) (1.2.1)\n",
            "Requirement already satisfied: cycler>=0.10 in /usr/local/lib/python3.10/dist-packages (from matplotlib) (0.12.1)\n",
            "Requirement already satisfied: fonttools>=4.22.0 in /usr/local/lib/python3.10/dist-packages (from matplotlib) (4.53.0)\n",
            "Requirement already satisfied: kiwisolver>=1.0.1 in /usr/local/lib/python3.10/dist-packages (from matplotlib) (1.4.5)\n",
            "Requirement already satisfied: numpy>=1.20 in /usr/local/lib/python3.10/dist-packages (from matplotlib) (1.25.2)\n",
            "Requirement already satisfied: packaging>=20.0 in /usr/local/lib/python3.10/dist-packages (from matplotlib) (24.1)\n",
            "Requirement already satisfied: pillow>=6.2.0 in /usr/local/lib/python3.10/dist-packages (from matplotlib) (9.4.0)\n",
            "Requirement already satisfied: pyparsing>=2.3.1 in /usr/local/lib/python3.10/dist-packages (from matplotlib) (3.1.2)\n",
            "Requirement already satisfied: python-dateutil>=2.7 in /usr/local/lib/python3.10/dist-packages (from matplotlib) (2.8.2)\n",
            "Requirement already satisfied: six>=1.5 in /usr/local/lib/python3.10/dist-packages (from python-dateutil>=2.7->matplotlib) (1.16.0)\n"
          ]
        }
      ],
      "source": [
        "import requests\n",
        "from bs4 import BeautifulSoup\n",
        "import matplotlib.pyplot as plt\n",
        "\n",
        "# URL of the webpage to scrape\n",
        "url = 'https://results.eci.gov.in/PcResultGenJune2024/index.htm#'  # Replace with the actual URL of the webpage\n",
        "\n",
        "# Send a GET request to the webpage\n",
        "response = requests.get(url)\n",
        "\n",
        "# Check if the request was successful\n",
        "if response.status_code == 200:\n",
        "    # Parse the HTML content of the webpage\n",
        "    soup = BeautifulSoup(response.content, 'html.parser')\n",
        "\n",
        "    # Find the table containing party data (adjust selector as per your webpage structure)\n",
        "    table = soup.find('table')\n",
        "\n",
        "    if table:\n",
        "        # Initialize an empty list to store party data\n",
        "        parties = []\n",
        "\n",
        "        # Find all rows in the table body (skip header rows if necessary)\n",
        "        rows = table.find_all('tr')\n",
        "\n",
        "        # Iterate through each row (start from 1 to skip header row if present)\n",
        "        for row in rows[1:]:\n",
        "            # Extract data from each cell (td) in the row\n",
        "            cells = row.find_all('td')\n",
        "\n",
        "            # Assuming the structure matches 'Party', 'Won', 'Leading', 'Total' in order\n",
        "            party_name = cells[0].get_text().strip()\n",
        "            seats_won = int(cells[1].get_text().strip())  # Assuming seats won is in the second column\n",
        "\n",
        "            # Append party data to the list\n",
        "            parties.append({\"Party\": party_name, \"Won\": seats_won})\n",
        "\n",
        "        # Sort parties based on seats won in descending order\n",
        "        sorted_parties = sorted(parties, key=lambda x: x[\"Won\"], reverse=True)\n",
        "\n",
        "        # Get the top 5 parties for the pie chart (adjust as needed)\n",
        "        top_parties = sorted_parties[:5]\n",
        "\n",
        "        # Extract party names and seat counts for the pie chart\n",
        "        labels = [party['Party'] fora party in top_parties]\n",
        "        sizes = [party['Won'] for party in top_parties]\n",
        "\n",
        "        # Plotting the pie chart\n",
        "        plt.figure(figsize=(8, 6))\n",
        "        plt.pie(sizes, labels=labels, autopct='%1.1f%%', startangle=140)\n",
        "        plt.title('Top Parties by Seats Won')\n",
        "        plt.axis('equal')  # Equal aspect ratio ensures that pie is drawn as a circle.\n",
        "\n",
        "        # Display the pie chart\n",
        "        plt.show()\n",
        "\n",
        "    else:\n",
        "        print(\"No table found on the webpage.\")\n",
        "else:\n",
        "    print(f\"Failed to retrieve the webpage. Status code: {response.status_code}\")\n"
      ]
    }
  ],
  "metadata": {
    "colab": {
      "provenance": [],
      "authorship_tag": "ABX9TyNCvXWqK+l2J2UNq5ZxeVxl",
      "include_colab_link": true
    },
    "kernelspec": {
      "display_name": "Python 3",
      "name": "python3"
    },
    "language_info": {
      "name": "python"
    }
  },
  "nbformat": 4,
  "nbformat_minor": 0
}